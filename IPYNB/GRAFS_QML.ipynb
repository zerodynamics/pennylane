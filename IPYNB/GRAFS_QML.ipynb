{
 "cells": [
  {
   "cell_type": "code",
   "execution_count": 1,
   "id": "grave-boring",
   "metadata": {},
   "outputs": [],
   "source": [
    "%matplotlib inline"
   ]
  },
  {
   "cell_type": "code",
   "execution_count": 3,
   "id": "organic-tooth",
   "metadata": {},
   "outputs": [],
   "source": [
    "from math import pi\n",
    "from scipy.linalg import hadamard\n",
    "from scipy.signal.windows import dpss\n",
    "from matplotlib import pyplot as plt\n",
    "\n",
    "# pennylane/autgrad numpy\n",
    "import pennylane.numpy as np\n",
    "import pennylane as qml\n",
    "\n",
    "#### hacked pennylane code\n",
    "# new single qubit op\n",
    "from pennylane.ops.qubit import RotXY\n",
    "# modified device to support RotXY\n",
    "from pennylane import device \n",
    "# modified template with RotXY as op\n",
    "from pennylane.templates.layers import StronglyEntanglingLayersRotXY\n",
    "\n",
    "# the og\n",
    "import numpy as onp"
   ]
  },
  {
   "cell_type": "code",
   "execution_count": 4,
   "id": "medieval-idaho",
   "metadata": {},
   "outputs": [],
   "source": [
    "# define some observables \n",
    "obs = [\n",
    "  qml.PauliX(1),\n",
    "  qml.PauliZ(1),\n",
    "  qml.PauliX(0) @ qml.PauliX(1),\n",
    "  qml.PauliY(0) @ qml.PauliY(1),\n",
    "  qml.PauliZ(0) @ qml.PauliZ(1)\n",
    "]\n",
    "\n",
    "# num layers must be power of 2 for Walsh/Hadamard basis\n",
    "num_layers = 2**4\n",
    "\n",
    "# number of qubits \n",
    "num_wires  = 5"
   ]
  },
  {
   "cell_type": "markdown",
   "id": "positive-tunisia",
   "metadata": {},
   "source": [
    "### RotXY $= \\exp(-0.5i (\\theta_x X + \\theta_y Y))$"
   ]
  },
  {
   "cell_type": "code",
   "execution_count": 7,
   "id": "indian-knight",
   "metadata": {},
   "outputs": [
    {
     "data": {
      "text/plain": [
       "tensor([[ 0.83486576+0.j        , -0.41744588-0.35880093j],\n",
       "        [ 0.41744588-0.35880093j,  0.83486576+0.j        ]], requires_grad=True)"
      ]
     },
     "execution_count": 7,
     "metadata": {},
     "output_type": "execute_result"
    }
   ],
   "source": [
    "# RotXY is the new single qubit op\n",
    "RotXY(*np.random.rand(2),wires=[0]).matrix"
   ]
  },
  {
   "cell_type": "code",
   "execution_count": 18,
   "id": "otherwise-greeting",
   "metadata": {},
   "outputs": [
    {
     "data": {
      "text/plain": [
       "tensor(0.04059722, requires_grad=True)"
      ]
     },
     "execution_count": 18,
     "metadata": {},
     "output_type": "execute_result"
    }
   ],
   "source": [
    "## MODIFIED default.qubit device to add custom operation \"RotXY\"\n",
    "dev = qml.device(\"default.qubit\", wires=num_wires, analytic=True)\n",
    "\n",
    "# Map our ansatz over our list of observables,\n",
    "qnodes = qml.map(StronglyEntanglingLayersRotXY, obs, device=dev)\n",
    "\n",
    "# choose a circuit/obs from qnodes list\n",
    "circuit = qnodes[4]\n",
    "\n",
    "# strongly_entangling_rotxy template requires:\n",
    "# 2 parameters for each RotXY for each layer and each wire\n",
    "theta_tape = np.random.rand(num_layers,num_wires, 2)\n",
    "\n",
    "# create tape\n",
    "circuit(theta_tape)\n",
    "\n",
    "# print circuit ... its big\n",
    "#print(circuit.draw())"
   ]
  },
  {
   "cell_type": "markdown",
   "id": "neutral-saudi",
   "metadata": {},
   "source": [
    "## Walsh/Hadamard Basis Functions"
   ]
  },
  {
   "cell_type": "code",
   "execution_count": 19,
   "id": "transparent-material",
   "metadata": {},
   "outputs": [
    {
     "name": "stdout",
     "output_type": "stream",
     "text": [
      "number of basis functions: 15\n"
     ]
    }
   ],
   "source": [
    "# Walsh/Hadamard basis functions (columns)\n",
    "# Hadamards are square\n",
    "# take one less column for dimension counting/sanity\n",
    "V = hadamard(num_layers)[:,:-1]\n",
    "num_basis_functions = V.shape[1]\n",
    "print('number of basis functions: %d'%num_basis_functions)"
   ]
  },
  {
   "cell_type": "code",
   "execution_count": 20,
   "id": "buried-stage",
   "metadata": {},
   "outputs": [
    {
     "data": {
      "image/png": "[encoded data removed]",
      "text/plain": [
       "<Figure size 432x288 with 1 Axes>"
      ]
     },
     "metadata": {
      "needs_background": "light"
     },
     "output_type": "display_data"
    }
   ],
   "source": [
    "fs = 12\n",
    "plt.plot(V[:,0], label='$v_0$');\n",
    "plt.plot(V[:,1], label='$v_1$');\n",
    "plt.plot(V[:,12],label='$v_{12}$');\n",
    "plt.title('Walsh/Hadamard basis functions',fontsize=fs)\n",
    "plt.legend(loc='lower left', fontsize=fs);"
   ]
  },
  {
   "cell_type": "markdown",
   "id": "flexible-edition",
   "metadata": {},
   "source": [
    "## Basis function Coefficients"
   ]
  },
  {
   "cell_type": "code",
   "execution_count": 21,
   "id": "demographic-matrix",
   "metadata": {},
   "outputs": [
    {
     "name": "stdout",
     "output_type": "stream",
     "text": [
      "alpha shape: (15, 5, 2) (num_basis_functions, num_wires, num_ops)\n"
     ]
    }
   ],
   "source": [
    "# initialize some random coefficients\n",
    "alpha_init = onp.random.rand(num_basis_functions,num_wires,2)\n",
    "print('alpha shape: (%d, %d, %d) (num_basis_functions, num_wires, num_ops)'%(alpha_init.shape))"
   ]
  },
  {
   "cell_type": "markdown",
   "id": "strategic-nursery",
   "metadata": {},
   "source": [
    "## Global --> Local transform \n",
    "## $ {\\cal A} \\to \\Theta: \\quad  {\\cal V} \\otimes_k {\\cal A}= \\Theta  $\n",
    "### $\\theta_{l j x} = \\sum_k v_{lk} \\alpha_{jkx}$"
   ]
  },
  {
   "cell_type": "code",
   "execution_count": 23,
   "id": "satellite-auckland",
   "metadata": {},
   "outputs": [
    {
     "data": {
      "text/plain": [
       "(16, 5, 2)"
      ]
     },
     "execution_count": 23,
     "metadata": {},
     "output_type": "execute_result"
    }
   ],
   "source": [
    "theta_init = np.tensordot(V,alpha_init,([1],[0]))\n",
    "theta_init.shape"
   ]
  },
  {
   "cell_type": "markdown",
   "id": "peripheral-emperor",
   "metadata": {},
   "source": [
    "## Functional Gradient Descent"
   ]
  },
  {
   "cell_type": "code",
   "execution_count": 27,
   "id": "mobile-street",
   "metadata": {},
   "outputs": [],
   "source": [
    "# GRAFS functions\n",
    "\n",
    "def grafs_circuit(_alpha):\n",
    "    # transform global (alpha) --> local (theta)\n",
    "    theta_ = onp.tensordot(V,_alpha,([1],[0]))\n",
    "    # evaluate the circuit\n",
    "    return circuit(theta_)\n",
    "\n",
    "def grafs_grad(_alpha):\n",
    "    # alpha --> theta\n",
    "    theta_ = onp.tensordot(V,alpha,([1],[0]))\n",
    "    # compute gradient wrt theta with pennylane/autograd\n",
    "    cc = qml.grad(circuit)(theta_)[0]\n",
    "    # complete the chain-rule to get gradient wrt alpha\n",
    "    return onp.tensordot(V,cc,([0],[0]))\n",
    "\n",
    "def grafs_step(_alpha,lr):\n",
    "    # gradient step in function space\n",
    "    return alpha - lr*grafs_grad(_alpha)\n",
    "\n"
   ]
  },
  {
   "cell_type": "code",
   "execution_count": 29,
   "id": "sound-guinea",
   "metadata": {},
   "outputs": [],
   "source": [
    "steps = 50\n",
    "learning_rate = 0.01\n",
    "\n",
    "# vanilla gradient descent\n",
    "opt = qml.GradientDescentOptimizer(learning_rate)\n",
    "\n",
    "# natural gradient optimizer ... not working\n",
    "opt_ng = qml.QNGOptimizer(learning_rate)\n",
    "\n",
    "# alpha --> theta\n",
    "theta = np.tensordot(V,alpha_init,([1],[0]))\n",
    "\n",
    "# for natural gradient\n",
    "theta_ng = theta\n",
    "\n",
    "gd_cost = []\n",
    "qng_cost = []\n",
    "grafs_cost = []\n",
    "\n",
    "# initial cost\n",
    "gd_cost.append(circuit(theta))\n",
    "grafs_cost.append(grafs_circuit(alpha_init))\n",
    "\n",
    "alpha = alpha_init\n",
    "\n",
    "for _ in range(steps):\n",
    "    #print('%f : %f' %(gd_cost[-1],grafs_cost[-1]))\n",
    "\n",
    "    # take a theta step\n",
    "    theta = opt.step(circuit, theta)\n",
    "    gd_cost.append(circuit(theta))\n",
    "\n",
    "    # take an alpha step\n",
    "    alpha = grafs_step(alpha,learning_rate)\n",
    "    grafs_cost.append(grafs_circuit(alpha))\n",
    "\n",
    "    #natural gradient not working ... singular metric tensor\n",
    "    #theta_ng = opt_ng.step(circuit, theta_ng)\n",
    "    #qng_cost.append(circuit(theta_ng))"
   ]
  },
  {
   "cell_type": "code",
   "execution_count": 30,
   "id": "committed-rebound",
   "metadata": {},
   "outputs": [
    {
     "data": {
      "image/png": "[encoded data removed]",
      "text/plain": [
       "<Figure size 576x396 with 1 Axes>"
      ]
     },
     "metadata": {},
     "output_type": "display_data"
    }
   ],
   "source": [
    "fs = 14\n",
    "plt.style.use(\"seaborn\")\n",
    "plt.plot(gd_cost, \"b\", label=\"gradient descent\")\n",
    "plt.plot(grafs_cost, \"g\", label=\"GRAFS\")\n",
    "\n",
    "plt.ylabel(\"Cost function value\",fontsize=fs)\n",
    "plt.xlabel(\"Optimization steps\", fontsize=fs)\n",
    "plt.legend(fontsize=fs);"
   ]
  },
  {
   "cell_type": "code",
   "execution_count": null,
   "id": "editorial-photograph",
   "metadata": {},
   "outputs": [],
   "source": []
  }
 ],
 "metadata": {
  "kernelspec": {
   "display_name": "Python 3",
   "language": "python",
   "name": "python3"
  },
  "language_info": {
   "codemirror_mode": {
    "name": "ipython",
    "version": 3
   },
   "file_extension": ".py",
   "mimetype": "text/x-python",
   "name": "python",
   "nbconvert_exporter": "python",
   "pygments_lexer": "ipython3",
   "version": "3.8.8"
  }
 },
 "nbformat": 4,
 "nbformat_minor": 5
}
